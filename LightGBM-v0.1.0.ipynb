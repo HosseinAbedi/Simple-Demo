{
 "cells": [
  {
   "cell_type": "code",
   "execution_count": 1,
   "metadata": {},
   "outputs": [
    {
     "name": "stderr",
     "output_type": "stream",
     "text": [
      "/home/shagrath/.local/lib/python3.5/site-packages/h5py/__init__.py:36: FutureWarning: Conversion of the second argument of issubdtype from `float` to `np.floating` is deprecated. In future, it will be treated as `np.float64 == np.dtype(float).type`.\n",
      "  from ._conv import register_converters as _register_converters\n",
      "Using TensorFlow backend.\n"
     ]
    },
    {
     "name": "stdout",
     "output_type": "stream",
     "text": [
      "['train-missings.csv', 'TechnicalTest.zip', 'ML-test-project.pdf']\n"
     ]
    }
   ],
   "source": [
    "import time\n",
    "import os\n",
    "import gc\n",
    "import itertools\n",
    "import numpy as np\n",
    "import pandas as pd\n",
    "from sklearn import preprocessing\n",
    "from sklearn.model_selection import KFold, StratifiedKFold, train_test_split\n",
    "from sklearn.metrics import mutual_info_score\n",
    "import lightgbm as lgb\n",
    "from sklearn.metrics import confusion_matrix\n",
    "import matplotlib.pyplot as plt\n",
    "import missingno as msno\n",
    "from keras.utils import to_categorical\n",
    "\n",
    "%matplotlib inline\n",
    "\n",
    "print(os.listdir(\"../data/\"))\n"
   ]
  },
  {
   "cell_type": "code",
   "execution_count": 409,
   "metadata": {},
   "outputs": [],
   "source": [
    "data = pd.read_csv('../data/train-missings.csv', index_col=0)"
   ]
  },
  {
   "cell_type": "code",
   "execution_count": 410,
   "metadata": {},
   "outputs": [
    {
     "data": {
      "text/html": [
       "<div>\n",
       "<style scoped>\n",
       "    .dataframe tbody tr th:only-of-type {\n",
       "        vertical-align: middle;\n",
       "    }\n",
       "\n",
       "    .dataframe tbody tr th {\n",
       "        vertical-align: top;\n",
       "    }\n",
       "\n",
       "    .dataframe thead th {\n",
       "        text-align: right;\n",
       "    }\n",
       "</style>\n",
       "<table border=\"1\" class=\"dataframe\">\n",
       "  <thead>\n",
       "    <tr style=\"text-align: right;\">\n",
       "      <th></th>\n",
       "      <th>p1</th>\n",
       "      <th>p2</th>\n",
       "      <th>p3</th>\n",
       "      <th>p4</th>\n",
       "      <th>p5</th>\n",
       "      <th>p6</th>\n",
       "      <th>p7</th>\n",
       "      <th>p8</th>\n",
       "      <th>p9</th>\n",
       "      <th>p10</th>\n",
       "      <th>p11</th>\n",
       "      <th>p12</th>\n",
       "      <th>p13</th>\n",
       "      <th>target</th>\n",
       "    </tr>\n",
       "    <tr>\n",
       "      <th>Id</th>\n",
       "      <th></th>\n",
       "      <th></th>\n",
       "      <th></th>\n",
       "      <th></th>\n",
       "      <th></th>\n",
       "      <th></th>\n",
       "      <th></th>\n",
       "      <th></th>\n",
       "      <th></th>\n",
       "      <th></th>\n",
       "      <th></th>\n",
       "      <th></th>\n",
       "      <th></th>\n",
       "      <th></th>\n",
       "    </tr>\n",
       "  </thead>\n",
       "  <tbody>\n",
       "    <tr>\n",
       "      <th>1</th>\n",
       "      <td>2596.0</td>\n",
       "      <td>NaN</td>\n",
       "      <td>3.0</td>\n",
       "      <td>NaN</td>\n",
       "      <td>0.0</td>\n",
       "      <td>NaN</td>\n",
       "      <td>221.0</td>\n",
       "      <td>232.0</td>\n",
       "      <td>148.0</td>\n",
       "      <td>6279.0</td>\n",
       "      <td>1.0</td>\n",
       "      <td>0.0</td>\n",
       "      <td>0.0</td>\n",
       "      <td>5</td>\n",
       "    </tr>\n",
       "    <tr>\n",
       "      <th>2</th>\n",
       "      <td>2590.0</td>\n",
       "      <td>56.0</td>\n",
       "      <td>2.0</td>\n",
       "      <td>212.0</td>\n",
       "      <td>NaN</td>\n",
       "      <td>390.0</td>\n",
       "      <td>220.0</td>\n",
       "      <td>NaN</td>\n",
       "      <td>NaN</td>\n",
       "      <td>6225.0</td>\n",
       "      <td>1.0</td>\n",
       "      <td>0.0</td>\n",
       "      <td>0.0</td>\n",
       "      <td>5</td>\n",
       "    </tr>\n",
       "    <tr>\n",
       "      <th>3</th>\n",
       "      <td>2804.0</td>\n",
       "      <td>NaN</td>\n",
       "      <td>9.0</td>\n",
       "      <td>268.0</td>\n",
       "      <td>65.0</td>\n",
       "      <td>3180.0</td>\n",
       "      <td>NaN</td>\n",
       "      <td>238.0</td>\n",
       "      <td>NaN</td>\n",
       "      <td>6121.0</td>\n",
       "      <td>NaN</td>\n",
       "      <td>0.0</td>\n",
       "      <td>0.0</td>\n",
       "      <td>2</td>\n",
       "    </tr>\n",
       "    <tr>\n",
       "      <th>4</th>\n",
       "      <td>2785.0</td>\n",
       "      <td>155.0</td>\n",
       "      <td>18.0</td>\n",
       "      <td>242.0</td>\n",
       "      <td>118.0</td>\n",
       "      <td>3090.0</td>\n",
       "      <td>238.0</td>\n",
       "      <td>238.0</td>\n",
       "      <td>122.0</td>\n",
       "      <td>6211.0</td>\n",
       "      <td>1.0</td>\n",
       "      <td>NaN</td>\n",
       "      <td>0.0</td>\n",
       "      <td>2</td>\n",
       "    </tr>\n",
       "    <tr>\n",
       "      <th>5</th>\n",
       "      <td>2595.0</td>\n",
       "      <td>45.0</td>\n",
       "      <td>NaN</td>\n",
       "      <td>153.0</td>\n",
       "      <td>-1.0</td>\n",
       "      <td>391.0</td>\n",
       "      <td>220.0</td>\n",
       "      <td>234.0</td>\n",
       "      <td>150.0</td>\n",
       "      <td>6172.0</td>\n",
       "      <td>1.0</td>\n",
       "      <td>0.0</td>\n",
       "      <td>0.0</td>\n",
       "      <td>5</td>\n",
       "    </tr>\n",
       "  </tbody>\n",
       "</table>\n",
       "</div>"
      ],
      "text/plain": [
       "        p1     p2    p3     p4     p5      p6     p7     p8     p9     p10  \\\n",
       "Id                                                                           \n",
       "1   2596.0    NaN   3.0    NaN    0.0     NaN  221.0  232.0  148.0  6279.0   \n",
       "2   2590.0   56.0   2.0  212.0    NaN   390.0  220.0    NaN    NaN  6225.0   \n",
       "3   2804.0    NaN   9.0  268.0   65.0  3180.0    NaN  238.0    NaN  6121.0   \n",
       "4   2785.0  155.0  18.0  242.0  118.0  3090.0  238.0  238.0  122.0  6211.0   \n",
       "5   2595.0   45.0   NaN  153.0   -1.0   391.0  220.0  234.0  150.0  6172.0   \n",
       "\n",
       "    p11  p12  p13  target  \n",
       "Id                         \n",
       "1   1.0  0.0  0.0       5  \n",
       "2   1.0  0.0  0.0       5  \n",
       "3   NaN  0.0  0.0       2  \n",
       "4   1.0  NaN  0.0       2  \n",
       "5   1.0  0.0  0.0       5  "
      ]
     },
     "execution_count": 410,
     "metadata": {},
     "output_type": "execute_result"
    }
   ],
   "source": [
    "data.head()"
   ]
  },
  {
   "cell_type": "markdown",
   "metadata": {},
   "source": [
    "## Having a look at the missing values:\n",
    "\n",
    "As we can see all our raw features have some missing values"
   ]
  },
  {
   "cell_type": "code",
   "execution_count": 411,
   "metadata": {},
   "outputs": [
    {
     "data": {
      "image/png": "[encoded data removed]",
      "text/plain": [
       "<Figure size 1800x720 with 2 Axes>"
      ]
     },
     "metadata": {},
     "output_type": "display_data"
    }
   ],
   "source": [
    "msno.matrix(data)"
   ]
  },
  {
   "cell_type": "markdown",
   "metadata": {},
   "source": [
    "## Class labels:"
   ]
  },
  {
   "cell_type": "code",
   "execution_count": 412,
   "metadata": {},
   "outputs": [
    {
     "data": {
      "text/plain": [
       "array([1, 2, 3, 4, 5, 6, 7])"
      ]
     },
     "execution_count": 412,
     "metadata": {},
     "output_type": "execute_result"
    }
   ],
   "source": [
    "np.unique(data['target'])"
   ]
  },
  {
   "cell_type": "code",
   "execution_count": 413,
   "metadata": {},
   "outputs": [
    {
     "data": {
      "text/plain": [
       "7    2160\n",
       "6    2160\n",
       "5    2160\n",
       "4    2160\n",
       "3    2160\n",
       "2    2160\n",
       "1    2160\n",
       "Name: target, dtype: int64"
      ]
     },
     "execution_count": 413,
     "metadata": {},
     "output_type": "execute_result"
    }
   ],
   "source": [
    "# Classes are nicely balanced! so a simple k-fold should work fine\n",
    "y.value_counts()"
   ]
  },
  {
   "cell_type": "code",
   "execution_count": 414,
   "metadata": {},
   "outputs": [
    {
     "name": "stdout",
     "output_type": "stream",
     "text": [
      "cardinality: 4597 p1\n",
      "cardinality: 3293 p2\n",
      "cardinality: 3076 p3\n",
      "cardinality: 3428 p4\n",
      "cardinality: 3444 p5\n",
      "cardinality: 6048 p6\n",
      "cardinality: 3140 p7\n",
      "cardinality: 3221 p8\n",
      "cardinality: 3293 p9\n",
      "cardinality: 5493 p10\n",
      "cardinality: 3091 p11\n",
      "cardinality: 3091 p12\n",
      "cardinality: 2924 p13\n"
     ]
    }
   ],
   "source": [
    "# Figuring out which feature could be numerical/categorical\n",
    "\n",
    "for f in data.drop(labels=['target'], axis=1).columns:\n",
    "    print('cardinality:', np.unique(data[f]).shape[0], f)"
   ]
  },
  {
   "cell_type": "markdown",
   "metadata": {},
   "source": [
    "Seems numerical or categorcal with high cardinality...we are going to treat them as numerical"
   ]
  },
  {
   "cell_type": "markdown",
   "metadata": {},
   "source": [
    "## Initial processing of the raw data"
   ]
  },
  {
   "cell_type": "code",
   "execution_count": 415,
   "metadata": {},
   "outputs": [],
   "source": [
    "def preprocess(data):\n",
    "        x = data[['p1', 'p2', 'p3', 'p4', 'p5', 'p6', 'p7', 'p8', 'p9', 'p10', 'p11', 'p12', 'p13']]  \n",
    "        y = data['target']\n",
    "        return x, y\n",
    "    "
   ]
  },
  {
   "cell_type": "code",
   "execution_count": 416,
   "metadata": {},
   "outputs": [],
   "source": [
    "x, y = preprocess(data=data)"
   ]
  },
  {
   "cell_type": "code",
   "execution_count": null,
   "metadata": {},
   "outputs": [],
   "source": []
  },
  {
   "cell_type": "markdown",
   "metadata": {},
   "source": [
    "## Setting a validation scheme:\n",
    "\n",
    "Starting with a hold-out test set and 5-fold corss-validation"
   ]
  },
  {
   "cell_type": "code",
   "execution_count": 417,
   "metadata": {},
   "outputs": [],
   "source": [
    "train_df, test_df, y_train, y_test = train_test_split(\n",
    "     x, y, test_size=0.2, random_state=666) # 20 % data is hold out of traning"
   ]
  },
  {
   "cell_type": "code",
   "execution_count": null,
   "metadata": {},
   "outputs": [],
   "source": []
  },
  {
   "cell_type": "code",
   "execution_count": 418,
   "metadata": {},
   "outputs": [],
   "source": [
    "# Some auxiliary functions\n",
    "\n",
    "def multi_weighted_logloss(y_true, y_preds):\n",
    "    \"\"\"\n",
    "    @author olivier https://www.kaggle.com/ogrellier\n",
    "    multi logloss for PLAsTiCC challenge\n",
    "    \"\"\"\n",
    "    # class_weights taken from Giba's topic : https://www.kaggle.com/titericz\n",
    "    # https://www.kaggle.com/c/PLAsTiCC-2018/discussion/67194\n",
    "    # with Kyle Boone's post https://www.kaggle.com/kyleboone\n",
    "    classes = [1, 2, 3, 4, 5, 6, 7]\n",
    "    class_weight = {1: 1, 2: 1, 3: 1, 4: 1, 5: 1, 6: 1, 7: 1}\n",
    "    if len(np.unique(y_true)) > 14:\n",
    "        classes.append(99)\n",
    "        class_weight[99] = 2\n",
    "    y_p = y_preds\n",
    "    # Trasform y_true in dummies\n",
    "    y_ohe = pd.get_dummies(y_true)\n",
    "    # Normalize rows and limit y_preds to 1e-15, 1-1e-15\n",
    "    y_p = np.clip(a=y_p, a_min=1e-15, a_max=1 - 1e-15)\n",
    "    # Transform to log\n",
    "    y_p_log = np.log(y_p)\n",
    "    # Get the log for ones, .values is used to drop the index of DataFrames\n",
    "    # Exclude class 99 for now, since there is no class99 in the training set\n",
    "    # we gave a special process for that class\n",
    "    y_log_ones = np.sum(y_ohe.values * y_p_log, axis=0)\n",
    "    # Get the number of positives for each class\n",
    "    nb_pos = y_ohe.sum(axis=0).values.astype(float)\n",
    "    # Weight average and divide by the number of positives\n",
    "    class_arr = np.array([class_weight[k] for k in sorted(class_weight.keys())])\n",
    "    y_w = y_log_ones * class_arr / nb_pos\n",
    "\n",
    "    loss = - np.sum(y_w) / np.sum(class_arr)\n",
    "    return loss"
   ]
  },
  {
   "cell_type": "code",
   "execution_count": null,
   "metadata": {},
   "outputs": [],
   "source": []
  },
  {
   "cell_type": "code",
   "execution_count": 419,
   "metadata": {},
   "outputs": [
    {
     "name": "stdout",
     "output_type": "stream",
     "text": [
      "Training until validation scores don't improve for 50 rounds.\n",
      "[100]\ttraining's multi_logloss: 0.779688\tvalid_1's multi_logloss: 0.849792\n",
      "[200]\ttraining's multi_logloss: 0.652472\tvalid_1's multi_logloss: 0.785533\n",
      "[300]\ttraining's multi_logloss: 0.573774\tvalid_1's multi_logloss: 0.760922\n",
      "[400]\ttraining's multi_logloss: 0.510023\tvalid_1's multi_logloss: 0.748465\n",
      "[500]\ttraining's multi_logloss: 0.460782\tvalid_1's multi_logloss: 0.745034\n",
      "[600]\ttraining's multi_logloss: 0.419196\tvalid_1's multi_logloss: 0.744367\n",
      "Early stopping, best iteration is:\n",
      "[557]\ttraining's multi_logloss: 0.436629\tvalid_1's multi_logloss: 0.742255\n",
      "Training until validation scores don't improve for 50 rounds.\n",
      "[100]\ttraining's multi_logloss: 0.776686\tvalid_1's multi_logloss: 0.868924\n",
      "[200]\ttraining's multi_logloss: 0.648671\tvalid_1's multi_logloss: 0.808689\n",
      "[300]\ttraining's multi_logloss: 0.568588\tvalid_1's multi_logloss: 0.791675\n",
      "[400]\ttraining's multi_logloss: 0.505245\tvalid_1's multi_logloss: 0.778578\n",
      "[500]\ttraining's multi_logloss: 0.454591\tvalid_1's multi_logloss: 0.771417\n",
      "[600]\ttraining's multi_logloss: 0.412484\tvalid_1's multi_logloss: 0.772038\n",
      "Early stopping, best iteration is:\n",
      "[560]\ttraining's multi_logloss: 0.428188\tvalid_1's multi_logloss: 0.769368\n",
      "Training until validation scores don't improve for 50 rounds.\n",
      "[100]\ttraining's multi_logloss: 0.780368\tvalid_1's multi_logloss: 0.838548\n",
      "[200]\ttraining's multi_logloss: 0.652743\tvalid_1's multi_logloss: 0.77594\n",
      "[300]\ttraining's multi_logloss: 0.569997\tvalid_1's multi_logloss: 0.75602\n",
      "[400]\ttraining's multi_logloss: 0.507437\tvalid_1's multi_logloss: 0.751035\n",
      "Early stopping, best iteration is:\n",
      "[412]\ttraining's multi_logloss: 0.500689\tvalid_1's multi_logloss: 0.750397\n",
      "Training until validation scores don't improve for 50 rounds.\n",
      "[100]\ttraining's multi_logloss: 0.775069\tvalid_1's multi_logloss: 0.861607\n",
      "[200]\ttraining's multi_logloss: 0.646549\tvalid_1's multi_logloss: 0.808958\n",
      "[300]\ttraining's multi_logloss: 0.563538\tvalid_1's multi_logloss: 0.791832\n",
      "[400]\ttraining's multi_logloss: 0.502157\tvalid_1's multi_logloss: 0.784322\n",
      "Early stopping, best iteration is:\n",
      "[367]\ttraining's multi_logloss: 0.519715\tvalid_1's multi_logloss: 0.783769\n",
      "Training until validation scores don't improve for 50 rounds.\n",
      "[100]\ttraining's multi_logloss: 0.780102\tvalid_1's multi_logloss: 0.846779\n",
      "[200]\ttraining's multi_logloss: 0.646956\tvalid_1's multi_logloss: 0.788512\n",
      "[300]\ttraining's multi_logloss: 0.567184\tvalid_1's multi_logloss: 0.77166\n",
      "[400]\ttraining's multi_logloss: 0.505869\tvalid_1's multi_logloss: 0.758599\n",
      "Early stopping, best iteration is:\n",
      "[442]\ttraining's multi_logloss: 0.483525\tvalid_1's multi_logloss: 0.756146\n",
      "OUT OF FOLD MULTI LOG LOSS : 0.76037 \n"
     ]
    }
   ],
   "source": [
    "folds = KFold(n_splits=5, shuffle=True, random_state=1)\n",
    "clfs = []\n",
    "oof_preds = np.zeros([train_df.shape[0], 7])\n",
    "error = []\n",
    "lgb_params = {\n",
    "        'boosting_type': 'gbdt',\n",
    "        'objective': 'multiclass',\n",
    "        'num_class': 7,\n",
    "        'metric': 'multi_logloss',\n",
    "        'learning_rate': 0.1,\n",
    "        'subsample': 1,\n",
    "        'colsample_bytree': 1,\n",
    "        'reg_alpha': .01,\n",
    "        'reg_lambda': .01,\n",
    "        'min_split_gain': 0.01,\n",
    "        'min_child_weight': 5,\n",
    "        'n_estimators': 3000,\n",
    "        'bagging_fraction': 0.3,\n",
    "        'silent': -1,\n",
    "        'verbose': -1,\n",
    "        'max_depth': 3\n",
    "    }\n",
    "\n",
    "\n",
    "for fold_, (trn_, val_) in enumerate(folds.split(y_train, y_train)):\n",
    "    trn_x, trn_y = train_df.iloc[trn_], y_train.iloc[trn_]\n",
    "    val_x, val_y = train_df.iloc[val_], y_train.iloc[val_]\n",
    "    \n",
    "    \n",
    "    clf = lgb.LGBMClassifier(**lgb_params)\n",
    "    clf.fit(\n",
    "        trn_x, trn_y,\n",
    "        eval_set=[(trn_x, trn_y), (val_x, val_y)],\n",
    "        verbose=100,\n",
    "        early_stopping_rounds=50\n",
    "    )\n",
    "    oof_preds[val_, :] = clf.predict_proba(val_x, num_iteration=clf.best_iteration_)\n",
    "    clfs.append(clf)\n",
    "    \n",
    "print('OUT OF FOLD MULTI LOG LOSS : %.5f ' % multi_weighted_logloss(y_true=y_train, y_preds=oof_preds))"
   ]
  },
  {
   "cell_type": "markdown",
   "metadata": {},
   "source": [
    "## Our initial out of fold error is 0.76129"
   ]
  },
  {
   "cell_type": "code",
   "execution_count": 420,
   "metadata": {},
   "outputs": [],
   "source": [
    "test_predictions = np.zeros([test_df.shape[0], 7])\n",
    "for clf in clfs:\n",
    "    test_predictions += clf.predict_proba(test_df)\n",
    "test_predictions = test_predictions / 5"
   ]
  },
  {
   "cell_type": "code",
   "execution_count": 421,
   "metadata": {},
   "outputs": [
    {
     "name": "stdout",
     "output_type": "stream",
     "text": [
      "HOLD OUT MULTI LOG LOSS : 0.69653 \n"
     ]
    }
   ],
   "source": [
    "print('HOLD OUT MULTI LOG LOSS : %.5f ' % multi_weighted_logloss(y_true=y_test, y_preds=test_predictions))"
   ]
  },
  {
   "cell_type": "markdown",
   "metadata": {},
   "source": [
    "## Our initial holdout error is 0.69653"
   ]
  },
  {
   "cell_type": "code",
   "execution_count": null,
   "metadata": {},
   "outputs": [],
   "source": []
  },
  {
   "cell_type": "code",
   "execution_count": 422,
   "metadata": {},
   "outputs": [],
   "source": [
    "# Visualizing the confusion matrix\n",
    "\n",
    "def plot_confusion_matrix(cm, classes=[1, 2, 3, 4, 5, 6, 7],\n",
    "                          normalize=False,\n",
    "                          title='Confusion matrix',\n",
    "                          cmap=plt.cm.Blues):\n",
    "    \"\"\"\n",
    "    This function prints and plots the confusion matrix.\n",
    "    Normalization can be applied by setting `normalize=True`.\n",
    "    \"\"\"\n",
    "    if normalize:\n",
    "        cm = cm.astype('float') / cm.sum(axis=1)[:, np.newaxis]\n",
    "        print(\"Normalized confusion matrix\")\n",
    "    else:\n",
    "        print('Confusion matrix, without normalization')\n",
    "\n",
    "    print(cm)\n",
    "\n",
    "    plt.imshow(cm, interpolation='nearest', cmap=cmap)\n",
    "    plt.title(title)\n",
    "    plt.colorbar()\n",
    "    tick_marks = np.arange(len(classes))\n",
    "    plt.xticks(tick_marks, classes, rotation=45)\n",
    "    plt.yticks(tick_marks, classes)\n",
    "\n",
    "    fmt = '.2f' if normalize else 'd'\n",
    "    thresh = cm.max() / 2.\n",
    "    for i, j in itertools.product(range(cm.shape[0]), range(cm.shape[1])):\n",
    "        plt.text(j, i, format(cm[i, j], fmt),\n",
    "                 horizontalalignment=\"center\",\n",
    "                 color=\"white\" if cm[i, j] > thresh else \"black\")\n",
    "\n",
    "    plt.ylabel('True label')\n",
    "    plt.xlabel('Predicted label')\n",
    "    plt.tight_layout()"
   ]
  },
  {
   "cell_type": "code",
   "execution_count": 423,
   "metadata": {},
   "outputs": [],
   "source": [
    "# Compute confusion matrix\n",
    "unique_y = np.unique(y_train)\n",
    "class_map = dict()\n",
    "for i,val in enumerate(unique_y):\n",
    "    class_map[val] = i\n",
    "        \n",
    "y_map = np.zeros((y.shape[0],))\n",
    "y_map = np.array([class_map[val] for val in y_train])\n",
    "y_categorical = to_categorical(y_map)\n",
    "\n",
    "cnf_matrix = confusion_matrix(y_map, np.argmax(oof_preds,axis=-1))\n",
    "np.set_printoptions(precision=2)"
   ]
  },
  {
   "cell_type": "code",
   "execution_count": 424,
   "metadata": {},
   "outputs": [
    {
     "name": "stdout",
     "output_type": "stream",
     "text": [
      "Normalized confusion matrix\n",
      "[[5.45e-01 2.01e-01 1.61e-02 4.59e-03 4.82e-02 2.18e-02 1.63e-01]\n",
      " [2.48e-01 4.92e-01 2.95e-02 3.47e-03 1.44e-01 4.63e-02 3.65e-02]\n",
      " [3.55e-03 1.42e-02 5.85e-01 9.40e-02 4.61e-02 2.46e-01 1.06e-02]\n",
      " [2.92e-03 5.85e-04 4.62e-02 9.03e-01 5.85e-04 4.39e-02 2.92e-03]\n",
      " [1.69e-02 8.43e-02 4.76e-02 6.97e-03 7.91e-01 3.54e-02 1.80e-02]\n",
      " [1.14e-02 7.44e-03 1.90e-01 6.41e-02 4.46e-02 6.75e-01 6.87e-03]\n",
      " [9.80e-02 1.99e-02 7.98e-03 2.85e-03 2.11e-02 9.69e-03 8.40e-01]]\n"
     ]
    },
    {
     "data": {
      "image/png": "[encoded data removed]",
      "text/plain": [
       "<Figure size 720x720 with 2 Axes>"
      ]
     },
     "metadata": {},
     "output_type": "display_data"
    }
   ],
   "source": [
    "# Plot non-normalized confusion matrix\n",
    "\n",
    "class_names = ['class_' + str(i) for i in range(1, 8)]\n",
    "plt.figure(figsize=(10,10))\n",
    "foo = plot_confusion_matrix(cnf_matrix, classes=class_names,normalize=True,\n",
    "                      title='Confusion matrix for out of fold predictions for raw data')\n"
   ]
  },
  {
   "cell_type": "code",
   "execution_count": 425,
   "metadata": {},
   "outputs": [],
   "source": [
    "# As we can see, there is room for improvements for many classes"
   ]
  },
  {
   "cell_type": "code",
   "execution_count": null,
   "metadata": {},
   "outputs": [],
   "source": []
  },
  {
   "cell_type": "markdown",
   "metadata": {},
   "source": [
    "## Let's improve our model (very basic feature engineering, parameter optimzation, feature selection, imputation,...)"
   ]
  },
  {
   "cell_type": "code",
   "execution_count": 426,
   "metadata": {},
   "outputs": [],
   "source": [
    "# No traditional nan impuattion worked, by mean,\n",
    "#  median, max, seeting an extreme value... so leave it as it is. Seem LGBM handles nans more efficiently"
   ]
  },
  {
   "cell_type": "code",
   "execution_count": null,
   "metadata": {},
   "outputs": [],
   "source": []
  },
  {
   "cell_type": "markdown",
   "metadata": {},
   "source": [
    "### Simple seature selection using a filter method (mutual information of a feature and ys)"
   ]
  },
  {
   "cell_type": "code",
   "execution_count": null,
   "metadata": {},
   "outputs": [],
   "source": []
  },
  {
   "cell_type": "code",
   "execution_count": 427,
   "metadata": {},
   "outputs": [
    {
     "name": "stdout",
     "output_type": "stream",
     "text": [
      "p1 p2 1.926687839261466\n",
      "p1 p3 1.8645126335940791\n",
      "p1 p4 1.8186830555411029\n",
      "p1 p5 1.8016332493744698\n",
      "p1 p6 1.942771581387322\n",
      "p1 p7 1.9196586915140277\n",
      "p1 p8 1.9132926031807567\n",
      "p1 p9 1.9203084448485006\n",
      "p1 p10 1.9417401123686315\n",
      "p1 p11 0.9612549609940627\n",
      "p1 p12 0.7401067549230782\n",
      "p1 p13 1.0856025318967537\n",
      "p2 p3 1.4362003730496133\n",
      "p2 p4 1.614496007863357\n",
      "p2 p5 1.641267802416166\n",
      "p2 p6 1.9022445929450142\n",
      "p2 p7 1.5527975085697256\n",
      "p2 p8 1.619539709901825\n",
      "p2 p9 1.6186681767065396\n",
      "p2 p10 1.9107637367676045\n",
      "p2 p11 0.8802214259409527\n",
      "p2 p12 0.7433400006250102\n",
      "p2 p13 0.8606371541893689\n",
      "p3 p4 1.2609686657901258\n",
      "p3 p5 1.2691737475862919\n",
      "p3 p6 1.8026145418439765\n",
      "p3 p7 1.1894115702991859\n",
      "p3 p8 1.12055345311703\n",
      "p3 p9 1.255021834312909\n",
      "p3 p10 1.788919479751091\n",
      "p3 p11 0.8377535841877115\n",
      "p3 p12 0.7271760669837332\n",
      "p3 p13 0.7755177160932749\n",
      "p4 p5 1.540148109600262\n",
      "p4 p6 1.7783129109062086\n",
      "p4 p7 1.5432217804876822\n",
      "p4 p8 1.5179376568071274\n",
      "p4 p9 1.5764269086786795\n",
      "p4 p10 1.7758868014148814\n",
      "p4 p11 0.9576589768338826\n",
      "p4 p12 0.8724269963262625\n",
      "p4 p13 0.9171113754176476\n",
      "p5 p6 1.7757804028706385\n",
      "p5 p7 1.6296291253488402\n",
      "p5 p8 1.6076099290352668\n",
      "p5 p9 1.634864326862862\n",
      "p5 p10 1.7818308850167321\n",
      "p5 p11 0.9922130965774265\n",
      "p5 p12 0.9041976360503788\n",
      "p5 p13 0.9315660568574439\n",
      "p6 p7 1.9115487212315103\n",
      "p6 p8 1.907322237896802\n",
      "p6 p9 1.9038386862561456\n",
      "p6 p10 1.9351690224025304\n",
      "p6 p11 1.0003975985800284\n",
      "p6 p12 0.7564426274913557\n",
      "p6 p13 1.0830316985720334\n",
      "p7 p8 1.5137301462594066\n",
      "p7 p9 1.5129350103503127\n",
      "p7 p10 1.9115217042728294\n",
      "p7 p11 0.8381582978162623\n",
      "p7 p12 0.7273480230138198\n",
      "p7 p13 0.7900703190459095\n",
      "p8 p9 1.592193754835916\n",
      "p8 p10 1.905861595742735\n",
      "p8 p11 0.8563245333011537\n",
      "p8 p12 0.7368877941852583\n",
      "p8 p13 0.8009354323666682\n",
      "p9 p10 1.9009296542046865\n",
      "p9 p11 0.8771408469894766\n",
      "p9 p12 0.7413324725545357\n",
      "p9 p13 0.8064814528833673\n",
      "p10 p11 0.9769978683146141\n",
      "p10 p12 0.7416327624623062\n",
      "p10 p13 1.0275171330044788\n",
      "p11 p12 1.7219274131877327\n",
      "p11 p13 1.2563761287066644\n",
      "p12 p13 1.4406224316665903\n"
     ]
    }
   ],
   "source": [
    "# Creating interation features and prunning the non informative ones\n",
    "met = []\n",
    "mis = []\n",
    "features = []\n",
    "for f in train_df.columns:\n",
    "    for g in train_df.columns:\n",
    "        if (f, g) not in met and f != g:\n",
    "            mis.append(mutual_info_score(train_df[f] / train_df[g], y_train))\n",
    "            features.append((f, g, mutual_info_score(train_df[f] / train_df[g], y_train)))\n",
    "            print(f, g, mutual_info_score(train_df[f] / train_df[g], y_train))\n",
    "            met = met + [(f, g), (g, f)]"
   ]
  },
  {
   "cell_type": "code",
   "execution_count": 428,
   "metadata": {},
   "outputs": [
    {
     "name": "stderr",
     "output_type": "stream",
     "text": [
      "/home/shagrath/.local/lib/python3.5/site-packages/ipykernel_launcher.py:2: SettingWithCopyWarning: \n",
      "A value is trying to be set on a copy of a slice from a DataFrame.\n",
      "Try using .loc[row_indexer,col_indexer] = value instead\n",
      "\n",
      "See the caveats in the documentation: http://pandas.pydata.org/pandas-docs/stable/indexing.html#indexing-view-versus-copy\n",
      "  \n"
     ]
    }
   ],
   "source": [
    "for f, g, mi in np.array(features)[np.argsort(-np.array(mis))[0:]]:\n",
    "    train_df[f + '/' + g] = train_df[f] / train_df[f]"
   ]
  },
  {
   "cell_type": "code",
   "execution_count": 429,
   "metadata": {},
   "outputs": [
    {
     "name": "stdout",
     "output_type": "stream",
     "text": [
      "0.38446632309688167 p1/p6\n",
      "0.38446632309688167 p1/p10\n",
      "0.38446632309688167 p1/p2\n",
      "0.38446632309688167 p1/p9\n",
      "0.38446632309688167 p1/p7\n",
      "0.38446632309688167 p1/p8\n",
      "0.38212284671024377 p7/p10\n",
      "0.39395646112765226 p2/p10\n",
      "0.3973869386214486 p8/p10\n",
      "0.39395646112765226 p2/p6\n",
      "0.3972608549829929 p9/p10\n",
      "0.38446632309688167 p1/p3\n",
      "0.38446632309688167 p1/p4\n",
      "0.38863601879613957 p3/p6\n",
      "0.38446632309688167 p1/p5\n",
      "0.38863601879613957 p3/p10\n",
      "0.39395646112765226 p2/p5\n",
      "0.39395646112765226 p2/p8\n",
      "0.39395646112765226 p2/p9\n",
      "0.39395646112765226 p2/p4\n",
      "0.3973869386214486 p8/p9\n",
      "0.39395646112765226 p2/p7\n",
      "0.38212284671024377 p7/p8\n",
      "0.38212284671024377 p7/p9\n",
      "0.39395646112765226 p2/p3\n",
      "0.38863601879613957 p3/p5\n",
      "0.38863601879613957 p3/p4\n",
      "0.38863601879613957 p3/p9\n",
      "0.38863601879613957 p3/p7\n",
      "0.38863601879613957 p3/p8\n",
      "0.38446632309688167 p1/p13\n",
      "0.3836532620200714 p10/p13\n",
      "0.3836532620200714 p10/p11\n",
      "0.38446632309688167 p1/p11\n",
      "0.39395646112765226 p2/p11\n",
      "0.3972608549829929 p9/p11\n",
      "0.39395646112765226 p2/p13\n",
      "0.3973869386214486 p8/p11\n",
      "0.38212284671024377 p7/p11\n",
      "0.38863601879613957 p3/p11\n",
      "0.3972608549829929 p9/p13\n",
      "0.3973869386214486 p8/p13\n",
      "0.38212284671024377 p7/p13\n",
      "0.38863601879613957 p3/p13\n",
      "0.39395646112765226 p2/p12\n",
      "0.3836532620200714 p10/p12\n",
      "0.3972608549829929 p9/p12\n",
      "0.38446632309688167 p1/p12\n",
      "0.3973869386214486 p8/p12\n",
      "0.38212284671024377 p7/p12\n",
      "0.38863601879613957 p3/p12\n"
     ]
    }
   ],
   "source": [
    "for f in train_df.columns:\n",
    "     if mutual_info_score(train_df[f], y_train) < 0.4: \n",
    "        print(mutual_info_score(train_df[f], y_train), f)\n",
    "        del train_df[f]"
   ]
  },
  {
   "cell_type": "code",
   "execution_count": null,
   "metadata": {},
   "outputs": [],
   "source": []
  },
  {
   "cell_type": "code",
   "execution_count": null,
   "metadata": {},
   "outputs": [],
   "source": []
  },
  {
   "cell_type": "code",
   "execution_count": null,
   "metadata": {},
   "outputs": [],
   "source": []
  },
  {
   "cell_type": "code",
   "execution_count": 430,
   "metadata": {},
   "outputs": [
    {
     "name": "stdout",
     "output_type": "stream",
     "text": [
      "\u001b[31mInitialization\u001b[0m\n",
      "\u001b[94m------------------------------------------------------------------------------------------------------------------------------------------------------------------------\u001b[0m\n",
      " Step |   Time |      Value |   bagging_fraction |   feature_fraction |   lambda_l1 |   lambda_l2 |   max_depth |   min_child_weight |   min_split_gain |   num_leaves | \n",
      "23\n",
      "Training until validation scores don't improve for 50 rounds.\n",
      "Early stopping, best iteration is:\n",
      "[6126]\ttraining's multi_logloss: 0.810223\tvalid_1's multi_logloss: 0.872698\n",
      "Training until validation scores don't improve for 50 rounds.\n"
     ]
    },
    {
     "ename": "KeyboardInterrupt",
     "evalue": "",
     "output_type": "error",
     "traceback": [
      "\u001b[0;31m---------------------------------------------------------------------------\u001b[0m",
      "\u001b[0;31mKeyboardInterrupt\u001b[0m                         Traceback (most recent call last)",
      "\u001b[0;32m<ipython-input-430-7b9196b64a74>\u001b[0m in \u001b[0;36m<module>\u001b[0;34m()\u001b[0m\n\u001b[1;32m     75\u001b[0m \u001b[0;34m\u001b[0m\u001b[0m\n\u001b[1;32m     76\u001b[0m \u001b[0;34m\u001b[0m\u001b[0m\n\u001b[0;32m---> 77\u001b[0;31m \u001b[0mgb_bo\u001b[0m\u001b[0;34m.\u001b[0m\u001b[0mmaximize\u001b[0m\u001b[0;34m(\u001b[0m\u001b[0minit_points\u001b[0m\u001b[0;34m=\u001b[0m\u001b[0;36m15\u001b[0m\u001b[0;34m,\u001b[0m \u001b[0mn_iter\u001b[0m\u001b[0;34m=\u001b[0m\u001b[0;36m10\u001b[0m\u001b[0;34m)\u001b[0m \u001b[0;31m# set n_iter = 1000 and wait\u001b[0m\u001b[0;34m\u001b[0m\u001b[0m\n\u001b[0m\u001b[1;32m     78\u001b[0m \u001b[0;34m\u001b[0m\u001b[0m\n\u001b[1;32m     79\u001b[0m \u001b[0;34m\u001b[0m\u001b[0m\n",
      "\u001b[0;32m/usr/local/lib/python3.5/dist-packages/bayes_opt/bayesian_optimization.py\u001b[0m in \u001b[0;36mmaximize\u001b[0;34m(self, init_points, n_iter, acq, kappa, xi, **gp_params)\u001b[0m\n\u001b[1;32m    241\u001b[0m             \u001b[0;32mif\u001b[0m \u001b[0mself\u001b[0m\u001b[0;34m.\u001b[0m\u001b[0mverbose\u001b[0m\u001b[0;34m:\u001b[0m\u001b[0;34m\u001b[0m\u001b[0m\n\u001b[1;32m    242\u001b[0m                 \u001b[0mself\u001b[0m\u001b[0;34m.\u001b[0m\u001b[0mplog\u001b[0m\u001b[0;34m.\u001b[0m\u001b[0mprint_header\u001b[0m\u001b[0;34m(\u001b[0m\u001b[0;34m)\u001b[0m\u001b[0;34m\u001b[0m\u001b[0m\n\u001b[0;32m--> 243\u001b[0;31m             \u001b[0mself\u001b[0m\u001b[0;34m.\u001b[0m\u001b[0minit\u001b[0m\u001b[0;34m(\u001b[0m\u001b[0minit_points\u001b[0m\u001b[0;34m)\u001b[0m\u001b[0;34m\u001b[0m\u001b[0m\n\u001b[0m\u001b[1;32m    244\u001b[0m \u001b[0;34m\u001b[0m\u001b[0m\n\u001b[1;32m    245\u001b[0m         \u001b[0my_max\u001b[0m \u001b[0;34m=\u001b[0m \u001b[0mself\u001b[0m\u001b[0;34m.\u001b[0m\u001b[0mspace\u001b[0m\u001b[0;34m.\u001b[0m\u001b[0mY\u001b[0m\u001b[0;34m.\u001b[0m\u001b[0mmax\u001b[0m\u001b[0;34m(\u001b[0m\u001b[0;34m)\u001b[0m\u001b[0;34m\u001b[0m\u001b[0m\n",
      "\u001b[0;32m/usr/local/lib/python3.5/dist-packages/bayes_opt/bayesian_optimization.py\u001b[0m in \u001b[0;36minit\u001b[0;34m(self, init_points)\u001b[0m\n\u001b[1;32m     87\u001b[0m         \u001b[0;31m# Evaluate target function at all initialization points\u001b[0m\u001b[0;34m\u001b[0m\u001b[0;34m\u001b[0m\u001b[0m\n\u001b[1;32m     88\u001b[0m         \u001b[0;32mfor\u001b[0m \u001b[0mx\u001b[0m \u001b[0;32min\u001b[0m \u001b[0mself\u001b[0m\u001b[0;34m.\u001b[0m\u001b[0minit_points\u001b[0m\u001b[0;34m:\u001b[0m\u001b[0;34m\u001b[0m\u001b[0m\n\u001b[0;32m---> 89\u001b[0;31m             \u001b[0my\u001b[0m \u001b[0;34m=\u001b[0m \u001b[0mself\u001b[0m\u001b[0;34m.\u001b[0m\u001b[0m_observe_point\u001b[0m\u001b[0;34m(\u001b[0m\u001b[0mx\u001b[0m\u001b[0;34m)\u001b[0m\u001b[0;34m\u001b[0m\u001b[0m\n\u001b[0m\u001b[1;32m     90\u001b[0m \u001b[0;34m\u001b[0m\u001b[0m\n\u001b[1;32m     91\u001b[0m         \u001b[0;31m# Add the points from `self.initialize` to the observations\u001b[0m\u001b[0;34m\u001b[0m\u001b[0;34m\u001b[0m\u001b[0m\n",
      "\u001b[0;32m/usr/local/lib/python3.5/dist-packages/bayes_opt/bayesian_optimization.py\u001b[0m in \u001b[0;36m_observe_point\u001b[0;34m(self, x)\u001b[0m\n\u001b[1;32m    102\u001b[0m \u001b[0;34m\u001b[0m\u001b[0m\n\u001b[1;32m    103\u001b[0m     \u001b[0;32mdef\u001b[0m \u001b[0m_observe_point\u001b[0m\u001b[0;34m(\u001b[0m\u001b[0mself\u001b[0m\u001b[0;34m,\u001b[0m \u001b[0mx\u001b[0m\u001b[0;34m)\u001b[0m\u001b[0;34m:\u001b[0m\u001b[0;34m\u001b[0m\u001b[0m\n\u001b[0;32m--> 104\u001b[0;31m         \u001b[0my\u001b[0m \u001b[0;34m=\u001b[0m \u001b[0mself\u001b[0m\u001b[0;34m.\u001b[0m\u001b[0mspace\u001b[0m\u001b[0;34m.\u001b[0m\u001b[0mobserve_point\u001b[0m\u001b[0;34m(\u001b[0m\u001b[0mx\u001b[0m\u001b[0;34m)\u001b[0m\u001b[0;34m\u001b[0m\u001b[0m\n\u001b[0m\u001b[1;32m    105\u001b[0m         \u001b[0;32mif\u001b[0m \u001b[0mself\u001b[0m\u001b[0;34m.\u001b[0m\u001b[0mverbose\u001b[0m\u001b[0;34m:\u001b[0m\u001b[0;34m\u001b[0m\u001b[0m\n\u001b[1;32m    106\u001b[0m             \u001b[0mself\u001b[0m\u001b[0;34m.\u001b[0m\u001b[0mplog\u001b[0m\u001b[0;34m.\u001b[0m\u001b[0mprint_step\u001b[0m\u001b[0;34m(\u001b[0m\u001b[0mx\u001b[0m\u001b[0;34m,\u001b[0m \u001b[0my\u001b[0m\u001b[0;34m)\u001b[0m\u001b[0;34m\u001b[0m\u001b[0m\n",
      "\u001b[0;32m/usr/local/lib/python3.5/dist-packages/bayes_opt/target_space.py\u001b[0m in \u001b[0;36mobserve_point\u001b[0;34m(self, x)\u001b[0m\n\u001b[1;32m    137\u001b[0m             \u001b[0;31m# measure the target function\u001b[0m\u001b[0;34m\u001b[0m\u001b[0;34m\u001b[0m\u001b[0m\n\u001b[1;32m    138\u001b[0m             \u001b[0mparams\u001b[0m \u001b[0;34m=\u001b[0m \u001b[0mdict\u001b[0m\u001b[0;34m(\u001b[0m\u001b[0mzip\u001b[0m\u001b[0;34m(\u001b[0m\u001b[0mself\u001b[0m\u001b[0;34m.\u001b[0m\u001b[0mkeys\u001b[0m\u001b[0;34m,\u001b[0m \u001b[0mx\u001b[0m\u001b[0;34m)\u001b[0m\u001b[0;34m)\u001b[0m\u001b[0;34m\u001b[0m\u001b[0m\n\u001b[0;32m--> 139\u001b[0;31m             \u001b[0my\u001b[0m \u001b[0;34m=\u001b[0m \u001b[0mself\u001b[0m\u001b[0;34m.\u001b[0m\u001b[0mtarget_func\u001b[0m\u001b[0;34m(\u001b[0m\u001b[0;34m**\u001b[0m\u001b[0mparams\u001b[0m\u001b[0;34m)\u001b[0m\u001b[0;34m\u001b[0m\u001b[0m\n\u001b[0m\u001b[1;32m    140\u001b[0m             \u001b[0mself\u001b[0m\u001b[0;34m.\u001b[0m\u001b[0madd_observation\u001b[0m\u001b[0;34m(\u001b[0m\u001b[0mx\u001b[0m\u001b[0;34m,\u001b[0m \u001b[0my\u001b[0m\u001b[0;34m)\u001b[0m\u001b[0;34m\u001b[0m\u001b[0m\n\u001b[1;32m    141\u001b[0m         \u001b[0;32mreturn\u001b[0m \u001b[0my\u001b[0m\u001b[0;34m\u001b[0m\u001b[0m\n",
      "\u001b[0;32m<ipython-input-430-7b9196b64a74>\u001b[0m in \u001b[0;36mlgb_eval\u001b[0;34m(num_leaves, feature_fraction, bagging_fraction, max_depth, lambda_l1, lambda_l2, min_split_gain, min_child_weight)\u001b[0m\n\u001b[1;32m     17\u001b[0m     \u001b[0mparams\u001b[0m\u001b[0;34m[\u001b[0m\u001b[0;34m'min_split_gain'\u001b[0m\u001b[0;34m]\u001b[0m \u001b[0;34m=\u001b[0m \u001b[0mmin_split_gain\u001b[0m\u001b[0;34m\u001b[0m\u001b[0m\n\u001b[1;32m     18\u001b[0m     \u001b[0mparams\u001b[0m\u001b[0;34m[\u001b[0m\u001b[0;34m'min_child_weight'\u001b[0m\u001b[0;34m]\u001b[0m \u001b[0;34m=\u001b[0m \u001b[0mmin_child_weight\u001b[0m\u001b[0;34m\u001b[0m\u001b[0m\n\u001b[0;32m---> 19\u001b[0;31m     \u001b[0mcv_result\u001b[0m \u001b[0;34m=\u001b[0m \u001b[0mlgb_cv\u001b[0m\u001b[0;34m(\u001b[0m\u001b[0;34m**\u001b[0m\u001b[0mparams\u001b[0m\u001b[0;34m)\u001b[0m\u001b[0;34m\u001b[0m\u001b[0m\n\u001b[0m\u001b[1;32m     20\u001b[0m     \u001b[0;32mreturn\u001b[0m \u001b[0mcv_result\u001b[0m\u001b[0;34m\u001b[0m\u001b[0m\n\u001b[1;32m     21\u001b[0m \u001b[0;34m\u001b[0m\u001b[0m\n",
      "\u001b[0;32m<ipython-input-430-7b9196b64a74>\u001b[0m in \u001b[0;36mlgb_cv\u001b[0;34m(num_leaves, feature_fraction, bagging_fraction, max_depth, lambda_l1, lambda_l2, min_split_gain, min_child_weight)\u001b[0m\n\u001b[1;32m     56\u001b[0m             \u001b[0meval_set\u001b[0m\u001b[0;34m=\u001b[0m\u001b[0;34m[\u001b[0m\u001b[0;34m(\u001b[0m\u001b[0mtrn_x\u001b[0m\u001b[0;34m,\u001b[0m \u001b[0mtrn_y\u001b[0m\u001b[0;34m)\u001b[0m\u001b[0;34m,\u001b[0m \u001b[0;34m(\u001b[0m\u001b[0mval_x\u001b[0m\u001b[0;34m,\u001b[0m \u001b[0mval_y\u001b[0m\u001b[0;34m)\u001b[0m\u001b[0;34m]\u001b[0m\u001b[0;34m,\u001b[0m\u001b[0;34m\u001b[0m\u001b[0m\n\u001b[1;32m     57\u001b[0m             \u001b[0mverbose\u001b[0m\u001b[0;34m=\u001b[0m\u001b[0;34m-\u001b[0m\u001b[0;36m1\u001b[0m\u001b[0;34m,\u001b[0m\u001b[0;34m\u001b[0m\u001b[0m\n\u001b[0;32m---> 58\u001b[0;31m             \u001b[0mearly_stopping_rounds\u001b[0m\u001b[0;34m=\u001b[0m\u001b[0;36m50\u001b[0m\u001b[0;34m\u001b[0m\u001b[0m\n\u001b[0m\u001b[1;32m     59\u001b[0m         )\n\u001b[1;32m     60\u001b[0m         \u001b[0moof_preds\u001b[0m\u001b[0;34m[\u001b[0m\u001b[0mval_\u001b[0m\u001b[0;34m,\u001b[0m \u001b[0;34m:\u001b[0m\u001b[0;34m]\u001b[0m \u001b[0;34m=\u001b[0m \u001b[0mclf\u001b[0m\u001b[0;34m.\u001b[0m\u001b[0mpredict_proba\u001b[0m\u001b[0;34m(\u001b[0m\u001b[0mval_x\u001b[0m\u001b[0;34m,\u001b[0m \u001b[0mnum_iteration\u001b[0m\u001b[0;34m=\u001b[0m\u001b[0mclf\u001b[0m\u001b[0;34m.\u001b[0m\u001b[0mbest_iteration_\u001b[0m\u001b[0;34m)\u001b[0m\u001b[0;34m\u001b[0m\u001b[0m\n",
      "\u001b[0;32m/usr/local/lib/python3.5/dist-packages/lightgbm/sklearn.py\u001b[0m in \u001b[0;36mfit\u001b[0;34m(self, X, y, sample_weight, init_score, eval_set, eval_names, eval_sample_weight, eval_class_weight, eval_init_score, eval_metric, early_stopping_rounds, verbose, feature_name, categorical_feature, callbacks)\u001b[0m\n\u001b[1;32m    677\u001b[0m                                         \u001b[0mverbose\u001b[0m\u001b[0;34m=\u001b[0m\u001b[0mverbose\u001b[0m\u001b[0;34m,\u001b[0m \u001b[0mfeature_name\u001b[0m\u001b[0;34m=\u001b[0m\u001b[0mfeature_name\u001b[0m\u001b[0;34m,\u001b[0m\u001b[0;34m\u001b[0m\u001b[0m\n\u001b[1;32m    678\u001b[0m                                         \u001b[0mcategorical_feature\u001b[0m\u001b[0;34m=\u001b[0m\u001b[0mcategorical_feature\u001b[0m\u001b[0;34m,\u001b[0m\u001b[0;34m\u001b[0m\u001b[0m\n\u001b[0;32m--> 679\u001b[0;31m                                         callbacks=callbacks)\n\u001b[0m\u001b[1;32m    680\u001b[0m         \u001b[0;32mreturn\u001b[0m \u001b[0mself\u001b[0m\u001b[0;34m\u001b[0m\u001b[0m\n\u001b[1;32m    681\u001b[0m \u001b[0;34m\u001b[0m\u001b[0m\n",
      "\u001b[0;32m/usr/local/lib/python3.5/dist-packages/lightgbm/sklearn.py\u001b[0m in \u001b[0;36mfit\u001b[0;34m(self, X, y, sample_weight, init_score, group, eval_set, eval_names, eval_sample_weight, eval_class_weight, eval_init_score, eval_group, eval_metric, early_stopping_rounds, verbose, feature_name, categorical_feature, callbacks)\u001b[0m\n\u001b[1;32m    471\u001b[0m                               \u001b[0mverbose_eval\u001b[0m\u001b[0;34m=\u001b[0m\u001b[0mverbose\u001b[0m\u001b[0;34m,\u001b[0m \u001b[0mfeature_name\u001b[0m\u001b[0;34m=\u001b[0m\u001b[0mfeature_name\u001b[0m\u001b[0;34m,\u001b[0m\u001b[0;34m\u001b[0m\u001b[0m\n\u001b[1;32m    472\u001b[0m                               \u001b[0mcategorical_feature\u001b[0m\u001b[0;34m=\u001b[0m\u001b[0mcategorical_feature\u001b[0m\u001b[0;34m,\u001b[0m\u001b[0;34m\u001b[0m\u001b[0m\n\u001b[0;32m--> 473\u001b[0;31m                               callbacks=callbacks)\n\u001b[0m\u001b[1;32m    474\u001b[0m \u001b[0;34m\u001b[0m\u001b[0m\n\u001b[1;32m    475\u001b[0m         \u001b[0;32mif\u001b[0m \u001b[0mevals_result\u001b[0m\u001b[0;34m:\u001b[0m\u001b[0;34m\u001b[0m\u001b[0m\n",
      "\u001b[0;32m/usr/local/lib/python3.5/dist-packages/lightgbm/engine.py\u001b[0m in \u001b[0;36mtrain\u001b[0;34m(params, train_set, num_boost_round, valid_sets, valid_names, fobj, feval, init_model, feature_name, categorical_feature, early_stopping_rounds, evals_result, verbose_eval, learning_rates, keep_training_booster, callbacks)\u001b[0m\n\u001b[1;32m    199\u001b[0m                                     evaluation_result_list=None))\n\u001b[1;32m    200\u001b[0m \u001b[0;34m\u001b[0m\u001b[0m\n\u001b[0;32m--> 201\u001b[0;31m         \u001b[0mbooster\u001b[0m\u001b[0;34m.\u001b[0m\u001b[0mupdate\u001b[0m\u001b[0;34m(\u001b[0m\u001b[0mfobj\u001b[0m\u001b[0;34m=\u001b[0m\u001b[0mfobj\u001b[0m\u001b[0;34m)\u001b[0m\u001b[0;34m\u001b[0m\u001b[0m\n\u001b[0m\u001b[1;32m    202\u001b[0m \u001b[0;34m\u001b[0m\u001b[0m\n\u001b[1;32m    203\u001b[0m         \u001b[0mevaluation_result_list\u001b[0m \u001b[0;34m=\u001b[0m \u001b[0;34m[\u001b[0m\u001b[0;34m]\u001b[0m\u001b[0;34m\u001b[0m\u001b[0m\n",
      "\u001b[0;32m/usr/local/lib/python3.5/dist-packages/lightgbm/basic.py\u001b[0m in \u001b[0;36mupdate\u001b[0;34m(self, train_set, fobj)\u001b[0m\n\u001b[1;32m   1519\u001b[0m             _safe_call(_LIB.LGBM_BoosterUpdateOneIter(\n\u001b[1;32m   1520\u001b[0m                 \u001b[0mself\u001b[0m\u001b[0;34m.\u001b[0m\u001b[0mhandle\u001b[0m\u001b[0;34m,\u001b[0m\u001b[0;34m\u001b[0m\u001b[0m\n\u001b[0;32m-> 1521\u001b[0;31m                 ctypes.byref(is_finished)))\n\u001b[0m\u001b[1;32m   1522\u001b[0m             \u001b[0mself\u001b[0m\u001b[0;34m.\u001b[0m\u001b[0m__is_predicted_cur_iter\u001b[0m \u001b[0;34m=\u001b[0m \u001b[0;34m[\u001b[0m\u001b[0;32mFalse\u001b[0m \u001b[0;32mfor\u001b[0m \u001b[0m_\u001b[0m \u001b[0;32min\u001b[0m \u001b[0mrange_\u001b[0m\u001b[0;34m(\u001b[0m\u001b[0mself\u001b[0m\u001b[0;34m.\u001b[0m\u001b[0m__num_dataset\u001b[0m\u001b[0;34m)\u001b[0m\u001b[0;34m]\u001b[0m\u001b[0;34m\u001b[0m\u001b[0m\n\u001b[1;32m   1523\u001b[0m             \u001b[0;32mreturn\u001b[0m \u001b[0mis_finished\u001b[0m\u001b[0;34m.\u001b[0m\u001b[0mvalue\u001b[0m \u001b[0;34m==\u001b[0m \u001b[0;36m1\u001b[0m\u001b[0;34m\u001b[0m\u001b[0m\n",
      "\u001b[0;31mKeyboardInterrupt\u001b[0m: "
     ]
    }
   ],
   "source": [
    "from scipy import stats\n",
    "from sklearn.metrics import roc_auc_score, precision_score, recall_score\n",
    "from sklearn.model_selection import KFold, StratifiedKFold\n",
    "from bayes_opt import BayesianOptimization\n",
    "from lightgbm import LGBMClassifier\n",
    "from scipy.stats import ranksums\n",
    "## Parameter tuning with Baysean optimization (could take hours to run)\n",
    "\n",
    "def lgb_eval(num_leaves, feature_fraction, bagging_fraction, max_depth, lambda_l1, lambda_l2, min_split_gain, min_child_weight):\n",
    "    params = {}\n",
    "    params[\"num_leaves\"] = int(num_leaves)\n",
    "    params['feature_fraction'] = max(min(feature_fraction, 1), 0)\n",
    "    params['bagging_fraction'] = max(min(bagging_fraction, 1), 0)\n",
    "    params['max_depth'] = int(max_depth)\n",
    "    params['lambda_l1'] = max(lambda_l1, 0)\n",
    "    params['lambda_l2'] = max(lambda_l2, 0)\n",
    "    params['min_split_gain'] = min_split_gain\n",
    "    params['min_child_weight'] = min_child_weight\n",
    "    cv_result = lgb_cv(**params)\n",
    "    return cv_result\n",
    "\n",
    "def lgb_cv(num_leaves, feature_fraction, bagging_fraction, max_depth,\n",
    "           lambda_l1, lambda_l2, min_split_gain, min_child_weight):\n",
    "    \n",
    "    print(num_leaves)\n",
    "    folds = KFold(n_splits=5, shuffle=True, random_state=1)\n",
    "    clfs = []\n",
    "    oof_preds = np.zeros([train_df.shape[0], 7])\n",
    "    lgb_params = {\n",
    "            'boosting_type': 'gbdt',\n",
    "            'objective': 'multiclass',\n",
    "            'num_class': 7,\n",
    "            'metric': 'multi_logloss',\n",
    "            'learning_rate': 0.03,\n",
    "            'subsample': .9,\n",
    "            'num_leaves': num_leaves,\n",
    "            'colsample_bytree': feature_fraction,\n",
    "            'reg_alpha': lambda_l1,\n",
    "            'reg_lambda': lambda_l2,\n",
    "            'min_split_gain': min_split_gain,\n",
    "            'min_child_weight': min_child_weight,\n",
    "            'n_estimators': 30000,\n",
    "            'bagging_fraction': bagging_fraction,\n",
    "            'silent': -1,\n",
    "            'verbose': -1,\n",
    "            'max_depth': max_depth\n",
    "        }\n",
    "\n",
    "\n",
    "    for fold_, (trn_, val_) in enumerate(folds.split(y_train, y_train)):\n",
    "        trn_x, trn_y = train_df.iloc[trn_], y_train.iloc[trn_]\n",
    "        val_x, val_y = train_df.iloc[val_], y_train.iloc[val_]\n",
    "        clf = lgb.LGBMClassifier(**lgb_params)\n",
    "        clf.fit(\n",
    "            trn_x, trn_y,\n",
    "            eval_set=[(trn_x, trn_y), (val_x, val_y)],\n",
    "            verbose=-1,\n",
    "            early_stopping_rounds=50\n",
    "        )\n",
    "        oof_preds[val_, :] = clf.predict_proba(val_x, num_iteration=clf.best_iteration_)\n",
    "        clfs.append(clf)\n",
    "\n",
    "    return multi_weighted_logloss(y_true=y_train, y_preds=oof_preds)\n",
    "\n",
    "\n",
    "gb_bo = BayesianOptimization(lgb_eval, {'num_leaves': (18, 40),\n",
    "                                        'feature_fraction': (0.02, 0.2),\n",
    "                                        'bagging_fraction': (0.8, 1),\n",
    "                                        'max_depth': (-1,8),\n",
    "                                        'lambda_l1': (0, 100),\n",
    "                                        'lambda_l2': (0, 100),\n",
    "                                        'min_split_gain': (0.0, 0.5),\n",
    "                                        'min_child_weight': (10, 100)}, \n",
    "                                        random_state=0)\n",
    "            \n",
    "            \n",
    "gb_bo.maximize(init_points=15, n_iter=10) # set n_iter = 1000 and wait\n",
    "\n",
    "\n",
    "\n",
    "\n"
   ]
  },
  {
   "cell_type": "code",
   "execution_count": null,
   "metadata": {},
   "outputs": [],
   "source": [
    "# We can do paramter tuning with trial and error (to dot it faster.. can't wait for Baysean optimzation to finish ;)\n",
    "\n",
    "# some important parameters: \n",
    "# * max_depth\n",
    "# * reg_alpha\n",
    "# * reg_lambda\n",
    "# * colsample_bytree\n",
    "# * and learning rate"
   ]
  },
  {
   "cell_type": "code",
   "execution_count": 431,
   "metadata": {},
   "outputs": [
    {
     "name": "stdout",
     "output_type": "stream",
     "text": [
      "Training until validation scores don't improve for 50 rounds.\n",
      "[100]\ttraining's multi_logloss: 0.818961\tvalid_1's multi_logloss: 0.94265\n",
      "[200]\ttraining's multi_logloss: 0.586519\tvalid_1's multi_logloss: 0.791208\n",
      "[300]\ttraining's multi_logloss: 0.472805\tvalid_1's multi_logloss: 0.748651\n",
      "[400]\ttraining's multi_logloss: 0.396545\tvalid_1's multi_logloss: 0.73143\n",
      "[500]\ttraining's multi_logloss: 0.339086\tvalid_1's multi_logloss: 0.722782\n",
      "[600]\ttraining's multi_logloss: 0.293993\tvalid_1's multi_logloss: 0.720113\n",
      "Early stopping, best iteration is:\n",
      "[560]\ttraining's multi_logloss: 0.310904\tvalid_1's multi_logloss: 0.719431\n",
      "Training until validation scores don't improve for 50 rounds.\n",
      "[100]\ttraining's multi_logloss: 0.815137\tvalid_1's multi_logloss: 0.955376\n",
      "[200]\ttraining's multi_logloss: 0.583874\tvalid_1's multi_logloss: 0.806777\n",
      "[300]\ttraining's multi_logloss: 0.472093\tvalid_1's multi_logloss: 0.766164\n",
      "[400]\ttraining's multi_logloss: 0.396376\tvalid_1's multi_logloss: 0.750944\n",
      "[500]\ttraining's multi_logloss: 0.338735\tvalid_1's multi_logloss: 0.742651\n",
      "[600]\ttraining's multi_logloss: 0.293726\tvalid_1's multi_logloss: 0.738157\n",
      "[700]\ttraining's multi_logloss: 0.256702\tvalid_1's multi_logloss: 0.737362\n",
      "Early stopping, best iteration is:\n",
      "[676]\ttraining's multi_logloss: 0.264838\tvalid_1's multi_logloss: 0.736824\n",
      "Training until validation scores don't improve for 50 rounds.\n",
      "[100]\ttraining's multi_logloss: 0.820809\tvalid_1's multi_logloss: 0.937706\n",
      "[200]\ttraining's multi_logloss: 0.589087\tvalid_1's multi_logloss: 0.790481\n",
      "[300]\ttraining's multi_logloss: 0.474049\tvalid_1's multi_logloss: 0.749009\n",
      "[400]\ttraining's multi_logloss: 0.39806\tvalid_1's multi_logloss: 0.733579\n",
      "[500]\ttraining's multi_logloss: 0.33947\tvalid_1's multi_logloss: 0.727442\n",
      "[600]\ttraining's multi_logloss: 0.293742\tvalid_1's multi_logloss: 0.726935\n",
      "Early stopping, best iteration is:\n",
      "[633]\ttraining's multi_logloss: 0.280469\tvalid_1's multi_logloss: 0.725669\n",
      "Training until validation scores don't improve for 50 rounds.\n",
      "[100]\ttraining's multi_logloss: 0.811845\tvalid_1's multi_logloss: 0.95749\n",
      "[200]\ttraining's multi_logloss: 0.578916\tvalid_1's multi_logloss: 0.816671\n",
      "[300]\ttraining's multi_logloss: 0.464934\tvalid_1's multi_logloss: 0.780428\n",
      "[400]\ttraining's multi_logloss: 0.38963\tvalid_1's multi_logloss: 0.768424\n",
      "[500]\ttraining's multi_logloss: 0.33226\tvalid_1's multi_logloss: 0.765849\n",
      "Early stopping, best iteration is:\n",
      "[460]\ttraining's multi_logloss: 0.353425\tvalid_1's multi_logloss: 0.765111\n",
      "Training until validation scores don't improve for 50 rounds.\n",
      "[100]\ttraining's multi_logloss: 0.816112\tvalid_1's multi_logloss: 0.943204\n",
      "[200]\ttraining's multi_logloss: 0.584898\tvalid_1's multi_logloss: 0.79748\n",
      "[300]\ttraining's multi_logloss: 0.471364\tvalid_1's multi_logloss: 0.759767\n",
      "[400]\ttraining's multi_logloss: 0.394596\tvalid_1's multi_logloss: 0.744973\n",
      "[500]\ttraining's multi_logloss: 0.337132\tvalid_1's multi_logloss: 0.738703\n",
      "[600]\ttraining's multi_logloss: 0.291579\tvalid_1's multi_logloss: 0.73651\n",
      "Early stopping, best iteration is:\n",
      "[552]\ttraining's multi_logloss: 0.31217\tvalid_1's multi_logloss: 0.736171\n",
      "OUT OF FOLD MULTI LOG LOSS : 0.73662 \n"
     ]
    }
   ],
   "source": [
    "folds = KFold(n_splits=5, shuffle=True, random_state=1)\n",
    "clfs = []\n",
    "oof_preds = np.zeros([train_df.shape[0], 7])\n",
    "error = []\n",
    "lgb_params = {\n",
    "        'boosting_type': 'gbdt',\n",
    "        'objective': 'multiclass',\n",
    "        'num_class': 7,\n",
    "        'metric': 'multi_logloss',\n",
    "        'learning_rate': 0.03,\n",
    "        'subsample': .85,\n",
    "        'colsample_bytree': 0.65,\n",
    "        'reg_alpha': .01,\n",
    "        'reg_lambda': 1,\n",
    "        'min_split_gain': 0.01,\n",
    "        'min_child_weight': 5,\n",
    "        'n_estimators': 3000,\n",
    "        'bagging_fraction': 0.3,\n",
    "        'silent': -1,\n",
    "        'verbose': -1,\n",
    "        'max_depth': -1\n",
    "    }\n",
    "\n",
    "\n",
    "for fold_, (trn_, val_) in enumerate(folds.split(y_train, y_train)):\n",
    "    trn_x, trn_y = train_df.iloc[trn_], y_train.iloc[trn_]\n",
    "    val_x, val_y = train_df.iloc[val_], y_train.iloc[val_]\n",
    "    \n",
    "    \n",
    "    clf = lgb.LGBMClassifier(**lgb_params)\n",
    "    clf.fit(\n",
    "        trn_x, trn_y,\n",
    "        eval_set=[(trn_x, trn_y), (val_x, val_y)],\n",
    "        verbose=100,\n",
    "        early_stopping_rounds=50\n",
    "    )\n",
    "    oof_preds[val_, :] = clf.predict_proba(val_x, num_iteration=clf.best_iteration_)\n",
    "    clfs.append(clf)\n",
    "    \n",
    "print('OUT OF FOLD MULTI LOG LOSS : %.5f ' % multi_weighted_logloss(y_true=y_train, y_preds=oof_preds))"
   ]
  },
  {
   "cell_type": "code",
   "execution_count": 432,
   "metadata": {},
   "outputs": [
    {
     "name": "stderr",
     "output_type": "stream",
     "text": [
      "/home/shagrath/.local/lib/python3.5/site-packages/ipykernel_launcher.py:2: SettingWithCopyWarning: \n",
      "A value is trying to be set on a copy of a slice from a DataFrame.\n",
      "Try using .loc[row_indexer,col_indexer] = value instead\n",
      "\n",
      "See the caveats in the documentation: http://pandas.pydata.org/pandas-docs/stable/indexing.html#indexing-view-versus-copy\n",
      "  \n"
     ]
    }
   ],
   "source": [
    "for f, g, mi in np.array(features)[np.argsort(-np.array(mis))[0:]]:\n",
    "    test_df[f + '/' + g] = test_df[f] / test_df[f]"
   ]
  },
  {
   "cell_type": "code",
   "execution_count": 433,
   "metadata": {},
   "outputs": [],
   "source": [
    "test_predictions = np.zeros([test_df.shape[0], 7])\n",
    "for clf in clfs:\n",
    "    test_predictions += clf.predict_proba(test_df[train_df.columns])\n",
    "test_predictions = test_predictions / 5"
   ]
  },
  {
   "cell_type": "code",
   "execution_count": 434,
   "metadata": {},
   "outputs": [
    {
     "name": "stdout",
     "output_type": "stream",
     "text": [
      "HOLD OUT MULTI LOG LOSS : 0.67602 \n"
     ]
    }
   ],
   "source": [
    "print('HOLD OUT MULTI LOG LOSS : %.5f ' % multi_weighted_logloss(y_true=y_test, y_preds=test_predictions))"
   ]
  },
  {
   "cell_type": "code",
   "execution_count": 435,
   "metadata": {},
   "outputs": [],
   "source": [
    "# got about 0.02 improvement"
   ]
  },
  {
   "cell_type": "code",
   "execution_count": 436,
   "metadata": {},
   "outputs": [
    {
     "name": "stdout",
     "output_type": "stream",
     "text": [
      "Normalized confusion matrix\n",
      "[[5.46e-01 2.13e-01 1.26e-02 3.44e-03 4.99e-02 2.18e-02 1.53e-01]\n",
      " [2.34e-01 5.10e-01 3.01e-02 2.90e-03 1.41e-01 4.28e-02 3.94e-02]\n",
      " [3.55e-03 1.18e-02 6.11e-01 8.81e-02 4.49e-02 2.33e-01 8.27e-03]\n",
      " [5.85e-04 5.85e-04 4.50e-02 9.11e-01 1.17e-03 3.92e-02 2.92e-03]\n",
      " [1.57e-02 8.02e-02 4.53e-02 5.81e-03 8.05e-01 3.14e-02 1.69e-02]\n",
      " [8.59e-03 6.30e-03 1.94e-01 5.90e-02 4.52e-02 6.79e-01 8.01e-03]\n",
      " [8.72e-02 1.71e-02 1.03e-02 3.42e-03 2.22e-02 9.69e-03 8.50e-01]]\n"
     ]
    },
    {
     "data": {
      "image/png": "[encoded data removed]",
      "text/plain": [
       "<Figure size 720x720 with 2 Axes>"
      ]
     },
     "metadata": {},
     "output_type": "display_data"
    }
   ],
   "source": [
    "cnf_matrix = confusion_matrix(y_map, np.argmax(oof_preds,axis=-1))\n",
    "np.set_printoptions(precision=2)\n",
    "\n",
    "class_names = ['class_' + str(i) for i in range(1, 8)]\n",
    "plt.figure(figsize=(10,10))\n",
    "foo = plot_confusion_matrix(cnf_matrix, classes=class_names,normalize=True,\n",
    "                      title='Confusion matrix for out of fold predictions for optimzed model')\n"
   ]
  },
  {
   "cell_type": "code",
   "execution_count": 437,
   "metadata": {},
   "outputs": [],
   "source": [
    "# We can see some improvements in our out of fold predictions as well"
   ]
  },
  {
   "cell_type": "markdown",
   "metadata": {},
   "source": [
    "## Saving the model"
   ]
  },
  {
   "cell_type": "code",
   "execution_count": 438,
   "metadata": {},
   "outputs": [],
   "source": [
    "import pickle\n",
    "\n",
    "with open('all_I_need.pickle', 'wb') as handle:\n",
    "    pickle.dump({'models': clfs, 'features': features, 'selected_features': train_df.columns}, handle, protocol=pickle.HIGHEST_PROTOCOL)"
   ]
  },
  {
   "cell_type": "code",
   "execution_count": null,
   "metadata": {},
   "outputs": [],
   "source": []
  },
  {
   "cell_type": "code",
   "execution_count": null,
   "metadata": {},
   "outputs": [],
   "source": []
  },
  {
   "cell_type": "code",
   "execution_count": null,
   "metadata": {},
   "outputs": [],
   "source": []
  }
 ],
 "metadata": {
  "kernelspec": {
   "display_name": "Python 3",
   "language": "python",
   "name": "python3"
  },
  "language_info": {
   "codemirror_mode": {
    "name": "ipython",
    "version": 3
   },
   "file_extension": ".py",
   "mimetype": "text/x-python",
   "name": "python",
   "nbconvert_exporter": "python",
   "pygments_lexer": "ipython3",
   "version": "3.5.3"
  }
 },
 "nbformat": 4,
 "nbformat_minor": 2
}
